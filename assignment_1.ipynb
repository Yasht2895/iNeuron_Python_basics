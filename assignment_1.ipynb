{
 "cells": [
  {
   "cell_type": "markdown",
   "metadata": {},
   "source": [
    "1.\tWrite a Python program to print \"Hello Python\"?"
   ]
  },
  {
   "cell_type": "code",
   "execution_count": 28,
   "metadata": {},
   "outputs": [
    {
     "name": "stdout",
     "output_type": "stream",
     "text": [
      "Hello Python\n"
     ]
    }
   ],
   "source": [
    "print(\"Hello Python\")"
   ]
  },
  {
   "cell_type": "markdown",
   "metadata": {},
   "source": [
    "2. Write a Python program to do arithmetical operations addition and division?\n"
   ]
  },
  {
   "cell_type": "code",
   "execution_count": 27,
   "metadata": {},
   "outputs": [
    {
     "name": "stdout",
     "output_type": "stream",
     "text": [
      "addition of 10 and 20 is: 30\n",
      "division of 10 and 20 is: 0.5\n"
     ]
    }
   ],
   "source": [
    "number_1 = 10\n",
    "number_2 = 20\n",
    "addition = number_1 + number_2\n",
    "division = number_1 / number_2\n",
    "\n",
    "print(\"addition of {} and {} is: {}\".format(number_1,number_2,addition))\n",
    "print(\"division of {} and {} is: {}\".format(number_1,number_2,division))\n"
   ]
  },
  {
   "attachments": {
    "triangle-area.png": {
     "image/png": "[encoded data removed]"
    }
   },
   "cell_type": "markdown",
   "metadata": {},
   "source": [
    "3. Write a Python program to find the area of a triangle?\n",
    "![triangle-area.png](attachment:triangle-area.png)"
   ]
  },
  {
   "cell_type": "code",
   "execution_count": 24,
   "metadata": {},
   "outputs": [
    {
     "name": "stdout",
     "output_type": "stream",
     "text": [
      "Area of triangle is :  8.181534085976786 \n"
     ]
    }
   ],
   "source": [
    "import math \n",
    "\n",
    "side_1 = 5\n",
    "side_2 = 4\n",
    "side_3 = 8\n",
    "\n",
    "semi_perimeter =  (side_1 + side_2 + side_3) / 2\n",
    "area =  math.sqrt(semi_perimeter * (semi_perimeter - side_1) * (semi_perimeter - side_2) * (semi_perimeter - side_3))\n",
    "print(\"Area of triangle is :  {} \".format(area))"
   ]
  },
  {
   "cell_type": "markdown",
   "metadata": {},
   "source": [
    "4. Write a Python program to swap two variables?"
   ]
  },
  {
   "cell_type": "code",
   "execution_count": 19,
   "metadata": {},
   "outputs": [
    {
     "name": "stdout",
     "output_type": "stream",
     "text": [
      "The value of var_1 before swapping: 5\n",
      "The value of var_2 before swapping: 10\n",
      "The value of var_1 after swapping: 10\n",
      "The value of var_2 after swapping: 5\n"
     ]
    }
   ],
   "source": [
    "var_1 = 5\n",
    "var_2 = 10\n",
    "\n",
    "print('The value of var_1 before swapping: {}'.format(var_1))\n",
    "print('The value of var_2 before swapping: {}'.format(var_2))\n",
    "\n",
    "var_1, var_2 = var_2, var_1\n",
    "\n",
    "print('The value of var_1 after swapping: {}'.format(var_1))\n",
    "print('The value of var_2 after swapping: {}'.format(var_2))"
   ]
  },
  {
   "cell_type": "markdown",
   "metadata": {},
   "source": [
    "5. Write a Python program to generate a random number?"
   ]
  },
  {
   "cell_type": "code",
   "execution_count": 23,
   "metadata": {
    "scrolled": true
   },
   "outputs": [
    {
     "name": "stdout",
     "output_type": "stream",
     "text": [
      "The random number is: 0.8321262268251165\n"
     ]
    }
   ],
   "source": [
    "import random\n",
    "\n",
    "number = random.random()\n",
    "\n",
    "print('The random number is: {}'.format(number))"
   ]
  },
  {
   "cell_type": "code",
   "execution_count": null,
   "metadata": {},
   "outputs": [],
   "source": []
  },
  {
   "cell_type": "code",
   "execution_count": null,
   "metadata": {},
   "outputs": [],
   "source": []
  }
 ],
 "metadata": {
  "kernelspec": {
   "display_name": "Python 3",
   "language": "python",
   "name": "python3"
  },
  "language_info": {
   "codemirror_mode": {
    "name": "ipython",
    "version": 3
   },
   "file_extension": ".py",
   "mimetype": "text/x-python",
   "name": "python",
   "nbconvert_exporter": "python",
   "pygments_lexer": "ipython3",
   "version": "3.6.5"
  }
 },
 "nbformat": 4,
 "nbformat_minor": 2
}
